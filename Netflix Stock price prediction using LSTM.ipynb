{
 "cells": [
  {
   "cell_type": "markdown",
   "id": "320e3ae1",
   "metadata": {},
   "source": [
    "\n",
    "# NETFLIX STOCK PRICE PREDICTION USING LSTM "
   ]
  },
  {
   "attachments": {
    "Screenshot_20231029-173716~2.jpg": {
     "image/jpeg": "[encoded data removed]"
    }
   },
   "cell_type": "markdown",
   "id": "94d3ee05",
   "metadata": {},
   "source": [
    "# By Nnamdi Nwankwo\n",
    "![Screenshot_20231029-173716~2.jpg](attachment:Screenshot_20231029-173716~2.jpg)"
   ]
  },
  {
   "cell_type": "markdown",
   "id": "cfdd98eb",
   "metadata": {},
   "source": [
    "RNNs(Recurrent Neural Networks) are a class of neural networks designed for sequential data, LSTMs(Long short term Memory) are a specialized type of RNN that addresses some of the limitations of traditional RNNs, making them more effective for tasks involving long-term dependencies in data. LSTM cells have proven to be very useful in a wide range of applications, including text generation, speech recognition, and time series forecasting."
   ]
  },
  {
   "cell_type": "markdown",
   "id": "0d88c3a5",
   "metadata": {},
   "source": [
    "Objective: To predict the Netflix stock price using LSTM"
   ]
  },
  {
   "cell_type": "markdown",
   "id": "22c32765",
   "metadata": {},
   "source": [
    "# Importing the required libraries and loading the dataset"
   ]
  },
  {
   "cell_type": "code",
   "execution_count": 59,
   "id": "da5cd380",
   "metadata": {},
   "outputs": [],
   "source": [
    "import numpy as np\n",
    "import pandas as pd\n",
    "import matplotlib.pyplot as plt\n",
    "from sklearn.preprocessing import MinMaxScaler"
   ]
  },
  {
   "cell_type": "code",
   "execution_count": 60,
   "id": "adfe25f6",
   "metadata": {
    "scrolled": true
   },
   "outputs": [
    {
     "name": "stdout",
     "output_type": "stream",
     "text": [
      "Requirement already satisfied: tensorflow in c:\\users\\celebobo computers\\downloads\\new folder\\lib\\site-packages (2.14.0)\n",
      "Requirement already satisfied: tensorflow-intel==2.14.0 in c:\\users\\celebobo computers\\downloads\\new folder\\lib\\site-packages (from tensorflow) (2.14.0)\n",
      "Requirement already satisfied: h5py>=2.9.0 in c:\\users\\celebobo computers\\downloads\\new folder\\lib\\site-packages (from tensorflow-intel==2.14.0->tensorflow) (3.7.0)\n",
      "Requirement already satisfied: wrapt<1.15,>=1.11.0 in c:\\users\\celebobo computers\\downloads\\new folder\\lib\\site-packages (from tensorflow-intel==2.14.0->tensorflow) (1.14.1)\n",
      "Requirement already satisfied: gast!=0.5.0,!=0.5.1,!=0.5.2,>=0.2.1 in c:\\users\\celebobo computers\\downloads\\new folder\\lib\\site-packages (from tensorflow-intel==2.14.0->tensorflow) (0.5.4)\n",
      "Requirement already satisfied: six>=1.12.0 in c:\\users\\celebobo computers\\downloads\\new folder\\lib\\site-packages (from tensorflow-intel==2.14.0->tensorflow) (1.16.0)\n",
      "Requirement already satisfied: flatbuffers>=23.5.26 in c:\\users\\celebobo computers\\downloads\\new folder\\lib\\site-packages (from tensorflow-intel==2.14.0->tensorflow) (23.5.26)\n",
      "Requirement already satisfied: absl-py>=1.0.0 in c:\\users\\celebobo computers\\downloads\\new folder\\lib\\site-packages (from tensorflow-intel==2.14.0->tensorflow) (2.0.0)\n",
      "Requirement already satisfied: numpy>=1.23.5 in c:\\users\\celebobo computers\\downloads\\new folder\\lib\\site-packages (from tensorflow-intel==2.14.0->tensorflow) (1.25.1)\n",
      "Requirement already satisfied: typing-extensions>=3.6.6 in c:\\users\\celebobo computers\\downloads\\new folder\\lib\\site-packages (from tensorflow-intel==2.14.0->tensorflow) (4.3.0)\n",
      "Requirement already satisfied: packaging in c:\\users\\celebobo computers\\downloads\\new folder\\lib\\site-packages (from tensorflow-intel==2.14.0->tensorflow) (21.3)\n",
      "Requirement already satisfied: opt-einsum>=2.3.2 in c:\\users\\celebobo computers\\downloads\\new folder\\lib\\site-packages (from tensorflow-intel==2.14.0->tensorflow) (3.3.0)\n",
      "Requirement already satisfied: ml-dtypes==0.2.0 in c:\\users\\celebobo computers\\downloads\\new folder\\lib\\site-packages (from tensorflow-intel==2.14.0->tensorflow) (0.2.0)\n",
      "Requirement already satisfied: tensorflow-estimator<2.15,>=2.14.0 in c:\\users\\celebobo computers\\downloads\\new folder\\lib\\site-packages (from tensorflow-intel==2.14.0->tensorflow) (2.14.0)\n",
      "Requirement already satisfied: termcolor>=1.1.0 in c:\\users\\celebobo computers\\downloads\\new folder\\lib\\site-packages (from tensorflow-intel==2.14.0->tensorflow) (2.3.0)\n",
      "Requirement already satisfied: tensorflow-io-gcs-filesystem>=0.23.1 in c:\\users\\celebobo computers\\downloads\\new folder\\lib\\site-packages (from tensorflow-intel==2.14.0->tensorflow) (0.31.0)\n",
      "Requirement already satisfied: setuptools in c:\\users\\celebobo computers\\downloads\\new folder\\lib\\site-packages (from tensorflow-intel==2.14.0->tensorflow) (63.4.1)\n",
      "Requirement already satisfied: grpcio<2.0,>=1.24.3 in c:\\users\\celebobo computers\\downloads\\new folder\\lib\\site-packages (from tensorflow-intel==2.14.0->tensorflow) (1.59.0)\n",
      "Requirement already satisfied: google-pasta>=0.1.1 in c:\\users\\celebobo computers\\downloads\\new folder\\lib\\site-packages (from tensorflow-intel==2.14.0->tensorflow) (0.2.0)\n",
      "Requirement already satisfied: tensorboard<2.15,>=2.14 in c:\\users\\celebobo computers\\downloads\\new folder\\lib\\site-packages (from tensorflow-intel==2.14.0->tensorflow) (2.14.1)\n",
      "Requirement already satisfied: libclang>=13.0.0 in c:\\users\\celebobo computers\\downloads\\new folder\\lib\\site-packages (from tensorflow-intel==2.14.0->tensorflow) (16.0.6)\n",
      "Requirement already satisfied: protobuf!=4.21.0,!=4.21.1,!=4.21.2,!=4.21.3,!=4.21.4,!=4.21.5,<5.0.0dev,>=3.20.3 in c:\\users\\celebobo computers\\downloads\\new folder\\lib\\site-packages (from tensorflow-intel==2.14.0->tensorflow) (4.24.4)\n",
      "Requirement already satisfied: astunparse>=1.6.0 in c:\\users\\celebobo computers\\downloads\\new folder\\lib\\site-packages (from tensorflow-intel==2.14.0->tensorflow) (1.6.3)\n",
      "Requirement already satisfied: keras<2.15,>=2.14.0 in c:\\users\\celebobo computers\\downloads\\new folder\\lib\\site-packages (from tensorflow-intel==2.14.0->tensorflow) (2.14.0)\n",
      "Requirement already satisfied: wheel<1.0,>=0.23.0 in c:\\users\\celebobo computers\\downloads\\new folder\\lib\\site-packages (from astunparse>=1.6.0->tensorflow-intel==2.14.0->tensorflow) (0.37.1)\n",
      "Requirement already satisfied: markdown>=2.6.8 in c:\\users\\celebobo computers\\downloads\\new folder\\lib\\site-packages (from tensorboard<2.15,>=2.14->tensorflow-intel==2.14.0->tensorflow) (3.3.4)\n",
      "Requirement already satisfied: werkzeug>=1.0.1 in c:\\users\\celebobo computers\\downloads\\new folder\\lib\\site-packages (from tensorboard<2.15,>=2.14->tensorflow-intel==2.14.0->tensorflow) (2.0.3)\n",
      "Requirement already satisfied: tensorboard-data-server<0.8.0,>=0.7.0 in c:\\users\\celebobo computers\\downloads\\new folder\\lib\\site-packages (from tensorboard<2.15,>=2.14->tensorflow-intel==2.14.0->tensorflow) (0.7.2)\n",
      "Requirement already satisfied: google-auth-oauthlib<1.1,>=0.5 in c:\\users\\celebobo computers\\downloads\\new folder\\lib\\site-packages (from tensorboard<2.15,>=2.14->tensorflow-intel==2.14.0->tensorflow) (1.0.0)\n",
      "Requirement already satisfied: requests<3,>=2.21.0 in c:\\users\\celebobo computers\\downloads\\new folder\\lib\\site-packages (from tensorboard<2.15,>=2.14->tensorflow-intel==2.14.0->tensorflow) (2.28.1)\n",
      "Requirement already satisfied: google-auth<3,>=1.6.3 in c:\\users\\celebobo computers\\downloads\\new folder\\lib\\site-packages (from tensorboard<2.15,>=2.14->tensorflow-intel==2.14.0->tensorflow) (2.23.3)\n",
      "Requirement already satisfied: pyparsing!=3.0.5,>=2.0.2 in c:\\users\\celebobo computers\\downloads\\new folder\\lib\\site-packages (from packaging->tensorflow-intel==2.14.0->tensorflow) (3.0.9)\n",
      "Requirement already satisfied: pyasn1-modules>=0.2.1 in c:\\users\\celebobo computers\\downloads\\new folder\\lib\\site-packages (from google-auth<3,>=1.6.3->tensorboard<2.15,>=2.14->tensorflow-intel==2.14.0->tensorflow) (0.2.8)\n",
      "Requirement already satisfied: cachetools<6.0,>=2.0.0 in c:\\users\\celebobo computers\\downloads\\new folder\\lib\\site-packages (from google-auth<3,>=1.6.3->tensorboard<2.15,>=2.14->tensorflow-intel==2.14.0->tensorflow) (5.3.2)\n",
      "Requirement already satisfied: rsa<5,>=3.1.4 in c:\\users\\celebobo computers\\downloads\\new folder\\lib\\site-packages (from google-auth<3,>=1.6.3->tensorboard<2.15,>=2.14->tensorflow-intel==2.14.0->tensorflow) (4.9)\n",
      "Requirement already satisfied: requests-oauthlib>=0.7.0 in c:\\users\\celebobo computers\\downloads\\new folder\\lib\\site-packages (from google-auth-oauthlib<1.1,>=0.5->tensorboard<2.15,>=2.14->tensorflow-intel==2.14.0->tensorflow) (1.3.1)\n",
      "Requirement already satisfied: urllib3<1.27,>=1.21.1 in c:\\users\\celebobo computers\\downloads\\new folder\\lib\\site-packages (from requests<3,>=2.21.0->tensorboard<2.15,>=2.14->tensorflow-intel==2.14.0->tensorflow) (1.26.11)\n",
      "Requirement already satisfied: certifi>=2017.4.17 in c:\\users\\celebobo computers\\downloads\\new folder\\lib\\site-packages (from requests<3,>=2.21.0->tensorboard<2.15,>=2.14->tensorflow-intel==2.14.0->tensorflow) (2022.9.14)\n",
      "Requirement already satisfied: charset-normalizer<3,>=2 in c:\\users\\celebobo computers\\downloads\\new folder\\lib\\site-packages (from requests<3,>=2.21.0->tensorboard<2.15,>=2.14->tensorflow-intel==2.14.0->tensorflow) (2.0.4)\n",
      "Requirement already satisfied: idna<4,>=2.5 in c:\\users\\celebobo computers\\downloads\\new folder\\lib\\site-packages (from requests<3,>=2.21.0->tensorboard<2.15,>=2.14->tensorflow-intel==2.14.0->tensorflow) (3.3)\n",
      "Requirement already satisfied: pyasn1<0.5.0,>=0.4.6 in c:\\users\\celebobo computers\\downloads\\new folder\\lib\\site-packages (from pyasn1-modules>=0.2.1->google-auth<3,>=1.6.3->tensorboard<2.15,>=2.14->tensorflow-intel==2.14.0->tensorflow) (0.4.8)\n",
      "Requirement already satisfied: oauthlib>=3.0.0 in c:\\users\\celebobo computers\\downloads\\new folder\\lib\\site-packages (from requests-oauthlib>=0.7.0->google-auth-oauthlib<1.1,>=0.5->tensorboard<2.15,>=2.14->tensorflow-intel==2.14.0->tensorflow) (3.2.2)\n",
      "Note: you may need to restart the kernel to use updated packages.\n"
     ]
    }
   ],
   "source": [
    "pip install tensorflow"
   ]
  },
  {
   "cell_type": "code",
   "execution_count": 61,
   "id": "0ae718e6",
   "metadata": {},
   "outputs": [
    {
     "name": "stdout",
     "output_type": "stream",
     "text": [
      "2.14.0\n"
     ]
    }
   ],
   "source": [
    "import tensorflow as tf\n",
    "print(tf.__version__)"
   ]
  },
  {
   "cell_type": "code",
   "execution_count": 62,
   "id": "d0d1d48c",
   "metadata": {},
   "outputs": [],
   "source": [
    "from tensorflow.keras.models import Sequential\n",
    "from tensorflow.keras.layers import LSTM, Dense, Dropout"
   ]
  },
  {
   "cell_type": "code",
   "execution_count": 63,
   "id": "747ac1e1",
   "metadata": {},
   "outputs": [],
   "source": [
    "NTFLX=pd.read_csv(r\"C:\\Users\\CELEBOBO COMPUTERS\\Downloads\\Datasets\\Nnamdi Datasc Projects\\NFLX.csv\")"
   ]
  },
  {
   "cell_type": "code",
   "execution_count": 64,
   "id": "06b8740f",
   "metadata": {},
   "outputs": [
    {
     "data": {
      "text/html": [
       "<div>\n",
       "<style scoped>\n",
       "    .dataframe tbody tr th:only-of-type {\n",
       "        vertical-align: middle;\n",
       "    }\n",
       "\n",
       "    .dataframe tbody tr th {\n",
       "        vertical-align: top;\n",
       "    }\n",
       "\n",
       "    .dataframe thead th {\n",
       "        text-align: right;\n",
       "    }\n",
       "</style>\n",
       "<table border=\"1\" class=\"dataframe\">\n",
       "  <thead>\n",
       "    <tr style=\"text-align: right;\">\n",
       "      <th></th>\n",
       "      <th>Date</th>\n",
       "      <th>Open</th>\n",
       "      <th>High</th>\n",
       "      <th>Low</th>\n",
       "      <th>Close</th>\n",
       "      <th>Adj Close</th>\n",
       "      <th>Volume</th>\n",
       "    </tr>\n",
       "  </thead>\n",
       "  <tbody>\n",
       "    <tr>\n",
       "      <th>0</th>\n",
       "      <td>2018-02-05</td>\n",
       "      <td>262.000000</td>\n",
       "      <td>267.899994</td>\n",
       "      <td>250.029999</td>\n",
       "      <td>254.259995</td>\n",
       "      <td>254.259995</td>\n",
       "      <td>11896100</td>\n",
       "    </tr>\n",
       "    <tr>\n",
       "      <th>1</th>\n",
       "      <td>2018-02-06</td>\n",
       "      <td>247.699997</td>\n",
       "      <td>266.700012</td>\n",
       "      <td>245.000000</td>\n",
       "      <td>265.720001</td>\n",
       "      <td>265.720001</td>\n",
       "      <td>12595800</td>\n",
       "    </tr>\n",
       "    <tr>\n",
       "      <th>2</th>\n",
       "      <td>2018-02-07</td>\n",
       "      <td>266.579987</td>\n",
       "      <td>272.450012</td>\n",
       "      <td>264.329987</td>\n",
       "      <td>264.559998</td>\n",
       "      <td>264.559998</td>\n",
       "      <td>8981500</td>\n",
       "    </tr>\n",
       "    <tr>\n",
       "      <th>3</th>\n",
       "      <td>2018-02-08</td>\n",
       "      <td>267.079987</td>\n",
       "      <td>267.619995</td>\n",
       "      <td>250.000000</td>\n",
       "      <td>250.100006</td>\n",
       "      <td>250.100006</td>\n",
       "      <td>9306700</td>\n",
       "    </tr>\n",
       "    <tr>\n",
       "      <th>4</th>\n",
       "      <td>2018-02-09</td>\n",
       "      <td>253.850006</td>\n",
       "      <td>255.800003</td>\n",
       "      <td>236.110001</td>\n",
       "      <td>249.470001</td>\n",
       "      <td>249.470001</td>\n",
       "      <td>16906900</td>\n",
       "    </tr>\n",
       "  </tbody>\n",
       "</table>\n",
       "</div>"
      ],
      "text/plain": [
       "         Date        Open        High         Low       Close   Adj Close  \\\n",
       "0  2018-02-05  262.000000  267.899994  250.029999  254.259995  254.259995   \n",
       "1  2018-02-06  247.699997  266.700012  245.000000  265.720001  265.720001   \n",
       "2  2018-02-07  266.579987  272.450012  264.329987  264.559998  264.559998   \n",
       "3  2018-02-08  267.079987  267.619995  250.000000  250.100006  250.100006   \n",
       "4  2018-02-09  253.850006  255.800003  236.110001  249.470001  249.470001   \n",
       "\n",
       "     Volume  \n",
       "0  11896100  \n",
       "1  12595800  \n",
       "2   8981500  \n",
       "3   9306700  \n",
       "4  16906900  "
      ]
     },
     "execution_count": 64,
     "metadata": {},
     "output_type": "execute_result"
    }
   ],
   "source": [
    "NTFLX.head()"
   ]
  },
  {
   "cell_type": "code",
   "execution_count": 65,
   "id": "95ee06bc",
   "metadata": {},
   "outputs": [
    {
     "data": {
      "text/plain": [
       "(1009, 7)"
      ]
     },
     "execution_count": 65,
     "metadata": {},
     "output_type": "execute_result"
    }
   ],
   "source": [
    "NTFLX.shape"
   ]
  },
  {
   "cell_type": "markdown",
   "id": "41ed57f6",
   "metadata": {},
   "source": [
    "# Data Pre-processing"
   ]
  },
  {
   "cell_type": "code",
   "execution_count": 66,
   "id": "20b29dcb",
   "metadata": {},
   "outputs": [],
   "source": [
    "NTFLX_train=NTFLX.iloc[0:900]\n",
    "NTFLX_test=NTFLX.iloc[900:1000]"
   ]
  },
  {
   "cell_type": "markdown",
   "id": "634ef494",
   "metadata": {},
   "source": [
    "# Train Data"
   ]
  },
  {
   "cell_type": "code",
   "execution_count": 67,
   "id": "74aaf389",
   "metadata": {},
   "outputs": [
    {
     "name": "stdout",
     "output_type": "stream",
     "text": [
      "[[262.      ]\n",
      " [247.699997]\n",
      " [266.579987]\n",
      " [267.079987]\n",
      " [253.850006]]\n"
     ]
    }
   ],
   "source": [
    "train_set= NTFLX_train.iloc[:,1:2].values \n",
    "print(train_set[:5])"
   ]
  },
  {
   "cell_type": "code",
   "execution_count": 68,
   "id": "6a7eeceb",
   "metadata": {},
   "outputs": [
    {
     "name": "stdout",
     "output_type": "stream",
     "text": [
      "[[0.08056696]\n",
      " [0.03953748]\n",
      " [0.09370782]\n",
      " [0.09514242]\n",
      " [0.05718305]]\n",
      "(900, 1)\n"
     ]
    }
   ],
   "source": [
    "#Normalizing the data/Feature Scaling\n",
    "scaler = MinMaxScaler(feature_range = (0,1))\n",
    "train_set_scaled = scaler.fit_transform(train_set)\n",
    "print(train_set_scaled[:5])\n",
    "print(train_set_scaled.shape)\n"
   ]
  },
  {
   "cell_type": "code",
   "execution_count": 69,
   "id": "887b61da",
   "metadata": {},
   "outputs": [],
   "source": [
    "#Creating sequences for the data\n",
    "x_train = []\n",
    "y_train = []\n",
    "\n",
    "#x_train is data during the past 60 days\n",
    "#y_train is the data of the day after the last day of x_train\n",
    "\n",
    "for i in range(60,len(train_set_scaled)):\n",
    "    x_train.append(train_set_scaled[i-60:i, 0])\n",
    "    y_train.append(train_set_scaled[i, 0])\n",
    "\n",
    "x_train, y_train = np.array(x_train), np.array(y_train)\n"
   ]
  },
  {
   "cell_type": "code",
   "execution_count": 70,
   "id": "a40baa89",
   "metadata": {},
   "outputs": [
    {
     "name": "stdout",
     "output_type": "stream",
     "text": [
      "(840, 60) (840,)\n"
     ]
    }
   ],
   "source": [
    "print(x_train.shape, y_train.shape)"
   ]
  },
  {
   "cell_type": "code",
   "execution_count": 71,
   "id": "4e97f0a2",
   "metadata": {},
   "outputs": [
    {
     "name": "stdout",
     "output_type": "stream",
     "text": [
      "(840, 60, 1)\n"
     ]
    }
   ],
   "source": [
    "#reshaping the data\n",
    "x_train = np.reshape(x_train, (x_train.shape[0],x_train.shape[1],1))\n",
    "print(x_train.shape)"
   ]
  },
  {
   "cell_type": "markdown",
   "id": "751177bf",
   "metadata": {},
   "source": [
    "# Model Building"
   ]
  },
  {
   "cell_type": "code",
   "execution_count": 72,
   "id": "a292990f",
   "metadata": {},
   "outputs": [],
   "source": [
    "#Initializing the RNN and adding the LSTM layers and some dropout regularisation\n",
    "model = Sequential()\n",
    "model.add(LSTM(units = 50,return_sequences = True,input_shape = (x_train.shape[1],1)))\n",
    "model.add(Dropout(0.2))\n",
    "model.add(LSTM(units = 50,return_sequences = True))\n",
    "model.add(Dropout(0.2))\n",
    "model.add(LSTM(units = 50,return_sequences = True))\n",
    "model.add(Dropout(0.2))\n",
    "model.add(LSTM(units = 50))\n",
    "model.add(Dropout(0.2))\n",
    "model.add(Dense(units = 1))"
   ]
  },
  {
   "cell_type": "code",
   "execution_count": 73,
   "id": "ef035624",
   "metadata": {},
   "outputs": [],
   "source": [
    "#Compiling the model\n",
    "model.compile(optimizer='adam', loss='mean_squared_error')"
   ]
  },
  {
   "cell_type": "code",
   "execution_count": 74,
   "id": "39a9474a",
   "metadata": {},
   "outputs": [
    {
     "name": "stdout",
     "output_type": "stream",
     "text": [
      "Epoch 1/100\n",
      "27/27 [==============================] - 9s 75ms/step - loss: 0.0446\n",
      "Epoch 2/100\n",
      "27/27 [==============================] - 2s 76ms/step - loss: 0.0122\n",
      "Epoch 3/100\n",
      "27/27 [==============================] - 2s 75ms/step - loss: 0.0105\n",
      "Epoch 4/100\n",
      "27/27 [==============================] - 2s 75ms/step - loss: 0.0095\n",
      "Epoch 5/100\n",
      "27/27 [==============================] - 2s 76ms/step - loss: 0.0080\n",
      "Epoch 6/100\n",
      "27/27 [==============================] - 2s 77ms/step - loss: 0.0092\n",
      "Epoch 7/100\n",
      "27/27 [==============================] - 2s 75ms/step - loss: 0.0080\n",
      "Epoch 8/100\n",
      "27/27 [==============================] - 2s 75ms/step - loss: 0.0093\n",
      "Epoch 9/100\n",
      "27/27 [==============================] - 2s 75ms/step - loss: 0.0096\n",
      "Epoch 10/100\n",
      "27/27 [==============================] - 2s 75ms/step - loss: 0.0084\n",
      "Epoch 11/100\n",
      "27/27 [==============================] - 2s 79ms/step - loss: 0.0075\n",
      "Epoch 12/100\n",
      "27/27 [==============================] - 2s 80ms/step - loss: 0.0078\n",
      "Epoch 13/100\n",
      "27/27 [==============================] - 2s 80ms/step - loss: 0.0081\n",
      "Epoch 14/100\n",
      "27/27 [==============================] - 2s 81ms/step - loss: 0.0068\n",
      "Epoch 15/100\n",
      "27/27 [==============================] - 2s 81ms/step - loss: 0.0069\n",
      "Epoch 16/100\n",
      "27/27 [==============================] - 2s 81ms/step - loss: 0.0065\n",
      "Epoch 17/100\n",
      "27/27 [==============================] - 2s 80ms/step - loss: 0.0062\n",
      "Epoch 18/100\n",
      "27/27 [==============================] - 2s 82ms/step - loss: 0.0064\n",
      "Epoch 19/100\n",
      "27/27 [==============================] - 2s 90ms/step - loss: 0.0056\n",
      "Epoch 20/100\n",
      "27/27 [==============================] - 2s 87ms/step - loss: 0.0060\n",
      "Epoch 21/100\n",
      "27/27 [==============================] - 3s 97ms/step - loss: 0.0059\n",
      "Epoch 22/100\n",
      "27/27 [==============================] - 3s 94ms/step - loss: 0.0060\n",
      "Epoch 23/100\n",
      "27/27 [==============================] - 3s 98ms/step - loss: 0.0056\n",
      "Epoch 24/100\n",
      "27/27 [==============================] - 2s 85ms/step - loss: 0.0058\n",
      "Epoch 25/100\n",
      "27/27 [==============================] - 2s 88ms/step - loss: 0.0054\n",
      "Epoch 26/100\n",
      "27/27 [==============================] - 2s 85ms/step - loss: 0.0054\n",
      "Epoch 27/100\n",
      "27/27 [==============================] - 2s 81ms/step - loss: 0.0060\n",
      "Epoch 28/100\n",
      "27/27 [==============================] - 2s 82ms/step - loss: 0.0054\n",
      "Epoch 29/100\n",
      "27/27 [==============================] - 2s 82ms/step - loss: 0.0051\n",
      "Epoch 30/100\n",
      "27/27 [==============================] - 2s 82ms/step - loss: 0.0052\n",
      "Epoch 31/100\n",
      "27/27 [==============================] - 2s 83ms/step - loss: 0.0052\n",
      "Epoch 32/100\n",
      "27/27 [==============================] - 2s 83ms/step - loss: 0.0051\n",
      "Epoch 33/100\n",
      "27/27 [==============================] - 2s 83ms/step - loss: 0.0060\n",
      "Epoch 34/100\n",
      "27/27 [==============================] - 2s 83ms/step - loss: 0.0049\n",
      "Epoch 35/100\n",
      "27/27 [==============================] - 2s 84ms/step - loss: 0.0049\n",
      "Epoch 36/100\n",
      "27/27 [==============================] - 2s 83ms/step - loss: 0.0045\n",
      "Epoch 37/100\n",
      "27/27 [==============================] - 2s 84ms/step - loss: 0.0047\n",
      "Epoch 38/100\n",
      "27/27 [==============================] - 2s 83ms/step - loss: 0.0045\n",
      "Epoch 39/100\n",
      "27/27 [==============================] - 2s 83ms/step - loss: 0.0048\n",
      "Epoch 40/100\n",
      "27/27 [==============================] - 2s 83ms/step - loss: 0.0040\n",
      "Epoch 41/100\n",
      "27/27 [==============================] - 2s 88ms/step - loss: 0.0048\n",
      "Epoch 42/100\n",
      "27/27 [==============================] - 2s 81ms/step - loss: 0.0041\n",
      "Epoch 43/100\n",
      "27/27 [==============================] - 2s 77ms/step - loss: 0.0049\n",
      "Epoch 44/100\n",
      "27/27 [==============================] - 2s 77ms/step - loss: 0.0049\n",
      "Epoch 45/100\n",
      "27/27 [==============================] - 2s 77ms/step - loss: 0.0040\n",
      "Epoch 46/100\n",
      "27/27 [==============================] - 2s 78ms/step - loss: 0.0038\n",
      "Epoch 47/100\n",
      "27/27 [==============================] - 2s 78ms/step - loss: 0.0043\n",
      "Epoch 48/100\n",
      "27/27 [==============================] - 2s 78ms/step - loss: 0.0042\n",
      "Epoch 49/100\n",
      "27/27 [==============================] - 2s 77ms/step - loss: 0.0043\n",
      "Epoch 50/100\n",
      "27/27 [==============================] - 2s 77ms/step - loss: 0.0034\n",
      "Epoch 51/100\n",
      "27/27 [==============================] - 2s 78ms/step - loss: 0.0038\n",
      "Epoch 52/100\n",
      "27/27 [==============================] - 2s 78ms/step - loss: 0.0036\n",
      "Epoch 53/100\n",
      "27/27 [==============================] - 2s 78ms/step - loss: 0.0042\n",
      "Epoch 54/100\n",
      "27/27 [==============================] - 2s 81ms/step - loss: 0.0035\n",
      "Epoch 55/100\n",
      "27/27 [==============================] - 2s 88ms/step - loss: 0.0035\n",
      "Epoch 56/100\n",
      "27/27 [==============================] - 3s 96ms/step - loss: 0.0037\n",
      "Epoch 57/100\n",
      "27/27 [==============================] - 3s 93ms/step - loss: 0.0033\n",
      "Epoch 58/100\n",
      "27/27 [==============================] - 2s 81ms/step - loss: 0.0039\n",
      "Epoch 59/100\n",
      "27/27 [==============================] - 2s 77ms/step - loss: 0.0032\n",
      "Epoch 60/100\n",
      "27/27 [==============================] - 2s 77ms/step - loss: 0.0035\n",
      "Epoch 61/100\n",
      "27/27 [==============================] - 2s 78ms/step - loss: 0.0034\n",
      "Epoch 62/100\n",
      "27/27 [==============================] - 2s 78ms/step - loss: 0.0033\n",
      "Epoch 63/100\n",
      "27/27 [==============================] - 2s 78ms/step - loss: 0.0033\n",
      "Epoch 64/100\n",
      "27/27 [==============================] - 2s 78ms/step - loss: 0.0036\n",
      "Epoch 65/100\n",
      "27/27 [==============================] - 2s 83ms/step - loss: 0.0032\n",
      "Epoch 66/100\n",
      "27/27 [==============================] - 2s 85ms/step - loss: 0.0029\n",
      "Epoch 67/100\n",
      "27/27 [==============================] - 2s 85ms/step - loss: 0.0032\n",
      "Epoch 68/100\n",
      "27/27 [==============================] - 2s 84ms/step - loss: 0.0031\n",
      "Epoch 69/100\n",
      "27/27 [==============================] - 2s 84ms/step - loss: 0.0030\n",
      "Epoch 70/100\n",
      "27/27 [==============================] - 2s 85ms/step - loss: 0.0032\n",
      "Epoch 71/100\n",
      "27/27 [==============================] - 2s 85ms/step - loss: 0.0033\n",
      "Epoch 72/100\n",
      "27/27 [==============================] - 3s 98ms/step - loss: 0.0028\n",
      "Epoch 73/100\n",
      "27/27 [==============================] - 2s 89ms/step - loss: 0.0030\n",
      "Epoch 74/100\n",
      "27/27 [==============================] - 2s 85ms/step - loss: 0.0025\n",
      "Epoch 75/100\n",
      "27/27 [==============================] - 2s 84ms/step - loss: 0.0029\n",
      "Epoch 76/100\n",
      "27/27 [==============================] - 2s 85ms/step - loss: 0.0025\n",
      "Epoch 77/100\n",
      "27/27 [==============================] - 2s 85ms/step - loss: 0.0028\n",
      "Epoch 78/100\n",
      "27/27 [==============================] - 2s 85ms/step - loss: 0.0032\n",
      "Epoch 79/100\n",
      "27/27 [==============================] - 2s 85ms/step - loss: 0.0026\n",
      "Epoch 80/100\n",
      "27/27 [==============================] - 2s 85ms/step - loss: 0.0029\n",
      "Epoch 81/100\n",
      "27/27 [==============================] - 2s 85ms/step - loss: 0.0027\n",
      "Epoch 82/100\n",
      "27/27 [==============================] - 2s 85ms/step - loss: 0.0029\n",
      "Epoch 83/100\n",
      "27/27 [==============================] - 2s 87ms/step - loss: 0.0025\n",
      "Epoch 84/100\n",
      "27/27 [==============================] - 2s 90ms/step - loss: 0.0024\n",
      "Epoch 85/100\n",
      "27/27 [==============================] - 2s 90ms/step - loss: 0.0027\n",
      "Epoch 86/100\n",
      "27/27 [==============================] - 2s 85ms/step - loss: 0.0024\n",
      "Epoch 87/100\n",
      "27/27 [==============================] - 2s 86ms/step - loss: 0.0026\n",
      "Epoch 88/100\n",
      "27/27 [==============================] - 2s 85ms/step - loss: 0.0026\n",
      "Epoch 89/100\n",
      "27/27 [==============================] - 2s 85ms/step - loss: 0.0030\n",
      "Epoch 90/100\n",
      "27/27 [==============================] - 2s 87ms/step - loss: 0.0027\n",
      "Epoch 91/100\n",
      "27/27 [==============================] - 2s 90ms/step - loss: 0.0031\n",
      "Epoch 92/100\n",
      "27/27 [==============================] - 2s 85ms/step - loss: 0.0030\n",
      "Epoch 93/100\n",
      "27/27 [==============================] - 2s 86ms/step - loss: 0.0025\n",
      "Epoch 94/100\n",
      "27/27 [==============================] - 2s 86ms/step - loss: 0.0023\n",
      "Epoch 95/100\n",
      "27/27 [==============================] - 2s 90ms/step - loss: 0.0023\n",
      "Epoch 96/100\n",
      "27/27 [==============================] - 2s 83ms/step - loss: 0.0023\n",
      "Epoch 97/100\n",
      "27/27 [==============================] - 2s 78ms/step - loss: 0.0022\n",
      "Epoch 98/100\n",
      "27/27 [==============================] - 2s 79ms/step - loss: 0.0025\n",
      "Epoch 99/100\n",
      "27/27 [==============================] - 2s 80ms/step - loss: 0.0027\n",
      "Epoch 100/100\n",
      "27/27 [==============================] - 2s 79ms/step - loss: 0.0028\n"
     ]
    },
    {
     "data": {
      "text/plain": [
       "<keras.src.callbacks.History at 0x21117a95400>"
      ]
     },
     "execution_count": 74,
     "metadata": {},
     "output_type": "execute_result"
    }
   ],
   "source": [
    "#training the model\n",
    "model.fit(x_train, y_train, batch_size=32, epochs=100)"
   ]
  },
  {
   "cell_type": "markdown",
   "id": "3f6e2076",
   "metadata": {},
   "source": [
    "# Test Data"
   ]
  },
  {
   "cell_type": "code",
   "execution_count": 75,
   "id": "0689759d",
   "metadata": {},
   "outputs": [
    {
     "name": "stdout",
     "output_type": "stream",
     "text": [
      "[[569.      ]\n",
      " [583.679993]\n",
      " [585.799988]\n",
      " [594.690002]\n",
      " [603.840027]]\n"
     ]
    }
   ],
   "source": [
    "#getting the original stock price\n",
    "original_stock_price= NTFLX_test.iloc[:,1:2].values \n",
    "print(original_stock_price[:5])"
   ]
  },
  {
   "cell_type": "markdown",
   "id": "c450b9d6",
   "metadata": {},
   "source": [
    "# Inputing the last 60 data points of train data and test data to the model for prediction"
   ]
  },
  {
   "cell_type": "code",
   "execution_count": 76,
   "id": "8d224052",
   "metadata": {},
   "outputs": [
    {
     "name": "stdout",
     "output_type": "stream",
     "text": [
      "(160, 1)\n"
     ]
    }
   ],
   "source": [
    "#getting the predicted stock price\n",
    "NTFLX_total = pd.concat((NTFLX_train['Open'],NTFLX_test['Open']),axis = 0)\n",
    "inputs = NTFLX_total[len(NTFLX_total)-len(NTFLX_test)-60:].values\n",
    "inputs = inputs.reshape(-1,1)\n",
    "\n",
    "#MinMax scaling\n",
    "sc = MinMaxScaler(feature_range = (0,1))\n",
    "inputs = sc.fit_transform(inputs)\n",
    "print(inputs.shape)"
   ]
  },
  {
   "cell_type": "code",
   "execution_count": 77,
   "id": "e947b3d2",
   "metadata": {},
   "outputs": [
    {
     "name": "stdout",
     "output_type": "stream",
     "text": [
      "(100, 60, 1)\n"
     ]
    }
   ],
   "source": [
    "x_test = []\n",
    "for i in range(60,len(inputs)):\n",
    "    x_test.append(inputs[i-60:i,0])\n",
    "x_test = np.array(x_test)\n",
    "x_test = np.reshape(x_test, (x_test.shape[0],x_test.shape[1],1))\n",
    "print(x_test.shape)"
   ]
  },
  {
   "cell_type": "code",
   "execution_count": 78,
   "id": "6fd75670",
   "metadata": {},
   "outputs": [
    {
     "name": "stdout",
     "output_type": "stream",
     "text": [
      "4/4 [==============================] - 1s 25ms/step\n",
      "(100, 1)\n"
     ]
    }
   ],
   "source": [
    "predicted_stock_price = model.predict(x_test)\n",
    "predicted_stock_price = sc.inverse_transform(predicted_stock_price)\n",
    "print(predicted_stock_price.shape)"
   ]
  },
  {
   "cell_type": "code",
   "execution_count": 79,
   "id": "ea1f3429",
   "metadata": {},
   "outputs": [
    {
     "data": {
      "image/png": "[encoded data removed]",
      "text/plain": [
       "<Figure size 640x480 with 1 Axes>"
      ]
     },
     "metadata": {},
     "output_type": "display_data"
    }
   ],
   "source": [
    "#Visualizing the results\n",
    "plt.plot(original_stock_price,color = 'black', label = 'original Stock Price')\n",
    "plt.plot(predicted_stock_price, color = 'red', label = 'Predicted stock Price')\n",
    "plt.title('Netflix Stock Price Prediction')\n",
    "plt.xlabel('Time')\n",
    "plt.ylabel('Netflix Stock Price')\n",
    "plt.legend()\n",
    "plt.show()"
   ]
  },
  {
   "cell_type": "markdown",
   "id": "f9ba5406",
   "metadata": {},
   "source": [
    "# Inputing the last 60 data points of train data only to the model, and appending each prediction to the input data for the next prediction"
   ]
  },
  {
   "cell_type": "code",
   "execution_count": 80,
   "id": "e4036a91",
   "metadata": {},
   "outputs": [
    {
     "name": "stdout",
     "output_type": "stream",
     "text": [
      "1/1 [==============================] - 0s 31ms/step\n",
      "1/1 [==============================] - 0s 18ms/step\n",
      "1/1 [==============================] - 0s 29ms/step\n",
      "1/1 [==============================] - 0s 22ms/step\n",
      "1/1 [==============================] - 0s 20ms/step\n",
      "1/1 [==============================] - 0s 29ms/step\n",
      "1/1 [==============================] - 0s 22ms/step\n",
      "1/1 [==============================] - 0s 19ms/step\n",
      "1/1 [==============================] - 0s 30ms/step\n",
      "1/1 [==============================] - 0s 20ms/step\n",
      "1/1 [==============================] - 0s 17ms/step\n",
      "1/1 [==============================] - 0s 38ms/step\n",
      "1/1 [==============================] - 0s 22ms/step\n",
      "1/1 [==============================] - 0s 31ms/step\n",
      "1/1 [==============================] - 0s 26ms/step\n",
      "1/1 [==============================] - 0s 18ms/step\n",
      "1/1 [==============================] - 0s 25ms/step\n",
      "1/1 [==============================] - 0s 30ms/step\n",
      "1/1 [==============================] - 0s 22ms/step\n",
      "1/1 [==============================] - 0s 31ms/step\n",
      "1/1 [==============================] - 0s 25ms/step\n",
      "1/1 [==============================] - 0s 18ms/step\n",
      "1/1 [==============================] - 0s 30ms/step\n",
      "1/1 [==============================] - 0s 23ms/step\n",
      "1/1 [==============================] - 0s 20ms/step\n",
      "1/1 [==============================] - 0s 18ms/step\n",
      "1/1 [==============================] - 0s 26ms/step\n",
      "1/1 [==============================] - 0s 17ms/step\n",
      "1/1 [==============================] - 0s 24ms/step\n",
      "1/1 [==============================] - 0s 30ms/step\n",
      "1/1 [==============================] - 0s 23ms/step\n",
      "1/1 [==============================] - 0s 31ms/step\n",
      "1/1 [==============================] - 0s 23ms/step\n",
      "1/1 [==============================] - 0s 16ms/step\n",
      "1/1 [==============================] - 0s 25ms/step\n",
      "1/1 [==============================] - 0s 17ms/step\n",
      "1/1 [==============================] - 0s 24ms/step\n",
      "1/1 [==============================] - 0s 30ms/step\n",
      "1/1 [==============================] - 0s 25ms/step\n",
      "1/1 [==============================] - 0s 16ms/step\n",
      "1/1 [==============================] - 0s 25ms/step\n",
      "1/1 [==============================] - 0s 18ms/step\n",
      "1/1 [==============================] - 0s 26ms/step\n",
      "1/1 [==============================] - 0s 19ms/step\n",
      "1/1 [==============================] - 0s 28ms/step\n",
      "1/1 [==============================] - 0s 22ms/step\n",
      "1/1 [==============================] - 0s 19ms/step\n",
      "1/1 [==============================] - 0s 24ms/step\n",
      "1/1 [==============================] - 0s 15ms/step\n",
      "1/1 [==============================] - 0s 23ms/step\n",
      "1/1 [==============================] - 0s 15ms/step\n",
      "1/1 [==============================] - 0s 25ms/step\n",
      "1/1 [==============================] - 0s 18ms/step\n",
      "1/1 [==============================] - 0s 29ms/step\n",
      "1/1 [==============================] - 0s 23ms/step\n",
      "1/1 [==============================] - 0s 19ms/step\n",
      "1/1 [==============================] - 0s 29ms/step\n",
      "1/1 [==============================] - 0s 18ms/step\n",
      "1/1 [==============================] - 0s 26ms/step\n",
      "1/1 [==============================] - 0s 16ms/step\n",
      "1/1 [==============================] - 0s 24ms/step\n",
      "1/1 [==============================] - 0s 17ms/step\n",
      "1/1 [==============================] - 0s 26ms/step\n",
      "1/1 [==============================] - 0s 20ms/step\n",
      "1/1 [==============================] - 0s 30ms/step\n",
      "1/1 [==============================] - 0s 24ms/step\n",
      "1/1 [==============================] - 0s 28ms/step\n",
      "1/1 [==============================] - 0s 22ms/step\n",
      "1/1 [==============================] - 0s 17ms/step\n",
      "1/1 [==============================] - 0s 26ms/step\n",
      "1/1 [==============================] - 0s 17ms/step\n",
      "1/1 [==============================] - 0s 25ms/step\n",
      "1/1 [==============================] - 0s 18ms/step\n",
      "1/1 [==============================] - 0s 15ms/step\n",
      "1/1 [==============================] - 0s 24ms/step\n",
      "1/1 [==============================] - 0s 17ms/step\n",
      "1/1 [==============================] - 0s 23ms/step\n",
      "1/1 [==============================] - 0s 29ms/step\n",
      "1/1 [==============================] - 0s 24ms/step\n",
      "1/1 [==============================] - 0s 16ms/step\n",
      "1/1 [==============================] - 0s 26ms/step\n",
      "1/1 [==============================] - 0s 19ms/step\n",
      "1/1 [==============================] - 0s 15ms/step\n",
      "1/1 [==============================] - 0s 23ms/step\n",
      "1/1 [==============================] - 0s 18ms/step\n",
      "1/1 [==============================] - 0s 42ms/step\n",
      "1/1 [==============================] - 0s 17ms/step\n",
      "1/1 [==============================] - 0s 39ms/step\n",
      "1/1 [==============================] - 0s 21ms/step\n",
      "1/1 [==============================] - 0s 29ms/step\n",
      "1/1 [==============================] - 0s 20ms/step\n",
      "1/1 [==============================] - 0s 14ms/step\n",
      "1/1 [==============================] - 0s 23ms/step\n",
      "1/1 [==============================] - 0s 21ms/step\n",
      "1/1 [==============================] - 0s 30ms/step\n",
      "1/1 [==============================] - 0s 18ms/step\n",
      "1/1 [==============================] - 0s 27ms/step\n",
      "1/1 [==============================] - 0s 21ms/step\n",
      "1/1 [==============================] - 0s 30ms/step\n",
      "1/1 [==============================] - 0s 23ms/step\n"
     ]
    }
   ],
   "source": [
    "# Extract the last 60 data points from the 'Open' column\n",
    "inputs = np.array(NTFLX_train['Open'][-60:])\n",
    "\n",
    "# Initialize an array to store the predictions\n",
    "new_predicted_price = np.empty((100, 1))\n",
    "\n",
    "for i in range(100):\n",
    "    # Reshape the input for prediction\n",
    "    x = inputs[-60:].reshape(1, 60, 1)\n",
    "\n",
    "    # Make the prediction\n",
    "    pred = model.predict(x)\n",
    "\n",
    "    # Append the prediction to the array\n",
    "    new_predicted_price[i] = pred\n",
    "\n",
    "    # Append the prediction to the input data for the next iteration\n",
    "    inputs = np.append(inputs, pred)\n"
   ]
  },
  {
   "cell_type": "code",
   "execution_count": 81,
   "id": "25dc53f5",
   "metadata": {},
   "outputs": [
    {
     "name": "stdout",
     "output_type": "stream",
     "text": [
      "(100, 1)\n"
     ]
    }
   ],
   "source": [
    "new_predicted_price = sc.inverse_transform(np.array(new_predicted_price))\n",
    "print(new_predicted_price.shape)"
   ]
  },
  {
   "cell_type": "code",
   "execution_count": 82,
   "id": "4047c343",
   "metadata": {},
   "outputs": [
    {
     "data": {
      "image/png": "[encoded data removed]",
      "text/plain": [
       "<Figure size 640x480 with 1 Axes>"
      ]
     },
     "metadata": {},
     "output_type": "display_data"
    }
   ],
   "source": [
    "plt.plot(original_stock_price,color = 'black', label = 'original stock Price')\n",
    "plt.plot(new_predicted_price, color = 'red', label = 'New Predicted Price')\n",
    "plt.title('Netflix Stock Price Prediction')\n",
    "plt.xlabel('Time')\n",
    "plt.ylabel('Netflix Stock Price') \n",
    "plt.legend()\n",
    "plt.show()"
   ]
  }
 ],
 "metadata": {
  "kernelspec": {
   "display_name": "Python 3 (ipykernel)",
   "language": "python",
   "name": "python3"
  },
  "language_info": {
   "codemirror_mode": {
    "name": "ipython",
    "version": 3
   },
   "file_extension": ".py",
   "mimetype": "text/x-python",
   "name": "python",
   "nbconvert_exporter": "python",
   "pygments_lexer": "ipython3",
   "version": "3.9.13"
  }
 },
 "nbformat": 4,
 "nbformat_minor": 5
}
